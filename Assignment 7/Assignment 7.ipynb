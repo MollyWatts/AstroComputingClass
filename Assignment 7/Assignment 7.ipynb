{
 "cells": [
  {
   "cell_type": "markdown",
   "metadata": {},
   "source": [
    "# Assignment 7 "
   ]
  },
  {
   "cell_type": "code",
   "execution_count": 1,
   "metadata": {},
   "outputs": [],
   "source": [
    "import numpy as np\n",
    "import math\n",
    "import matplotlib.pyplot as plt\n",
    "import scipy\n",
    "from scipy.integrate import quad\n",
    "import astropy\n",
    "import math\n",
    "%matplotlib inline"
   ]
  },
  {
   "cell_type": "markdown",
   "metadata": {},
   "source": [
    "## Problem 1"
   ]
  },
  {
   "cell_type": "markdown",
   "metadata": {},
   "source": [
    "Functions defined in my_transit: Code from Prof. Bryan"
   ]
  },
  {
   "cell_type": "code",
   "execution_count": 2,
   "metadata": {},
   "outputs": [],
   "source": [
    "# This implements the planet obscuration function for a uniform\n",
    "#  (stellar) disk described in Mandel & Agol (2002).\n",
    "#  http://dx.doi.org/10.1086/345520\n",
    "\n",
    "\n",
    "'''\n",
    "Functions used in calculating transit light curves \n",
    " Variables/ Arguments meaning for problem:\n",
    "     p = r_p/r_* : size ratio of planet to the star\n",
    "         where r_p is the radius of the planet,; r_* is the stellar radius\n",
    "     z = d/r_* : is the separation of the centers, normalized by the stellar \n",
    "         where d is center-to-center distance between the star and the planet\n",
    "     F(p,z) is observed flux relative to the unobscured flux\n",
    "'''\n",
    "\n",
    "def kappa0(p, z):\n",
    "    return acos((p**2 + z**2 - 1)/(2*p*z))\n",
    "\n",
    "def kappa1(p, z):\n",
    "    return acos((1 - p**2 + z**2)/(2*z))\n",
    "\n",
    "def lambd(p, z):\n",
    "    if 1 + p < z:\n",
    "        return 0\n",
    "    if z <= 1 - p:\n",
    "        return p**2\n",
    "    if z <= p - 1:\n",
    "        return 1\n",
    "    arg = (4*z**2 - (1 + z**2 - p**2)**2)/4\n",
    "    if arg >= 0:\n",
    "        return (kappa0(p, z)*p**2 + kappa1(p, z) - math.sqrt(arg))/pi\n",
    "    else:\n",
    "        return 0\n",
    "\n",
    "def FluxRatio(p, z):\n",
    "    \"\"\"\n",
    "    Compute the ratio of obscured/unobscured flux for a planet transit.\n",
    "    \n",
    "    Arguments:\n",
    "       p - ratio of planet radius to stellar radius\n",
    "       z - distance between star and planet divided by stellar radius\n",
    "    Returns: \n",
    "       FluxRatio - ratio of obscured to unobscured stellar flux\n",
    "    \"\"\"\n",
    "    return 1 - lambd(p, abs(z))\n",
    "\n",
    "# The following functions are used in computing the transit light curve\n",
    "\n",
    "def beta(p, r, z):\n",
    "    return 2.0 * math.acos((z**2 - p**2 + r**2)/(2*z*r))\n",
    "\n",
    "def delta(p, r, z):\n",
    "    \"\"\"\n",
    "    Compute the ratio of obscured/unobscured flux for a planet transit\n",
    "       for a given radial ring.\n",
    "    \n",
    "    Arguments:\n",
    "       p - ratio of planet radius to stellar radius\n",
    "       r - radius of ring (divided by stellar radius)\n",
    "       z - distance between star and planet divided by stellar radius\n",
    "    Returns: \n",
    "       delta - ratio of obscured to unobscured stellar flux for that radius\n",
    "    \"\"\"\n",
    "    if r >= z + p or r <= z - p:\n",
    "        return 0\n",
    "    if r + z <= p:\n",
    "        return 1\n",
    "    b = beta(p, r, z)\n",
    "    return b/(2*math.pi)\n",
    "\n",
    "\n",
    "def I(r):\n",
    "    '''A Limb-darkening function'''\n",
    "    mu = (1 - (r**2))**(0.5)\n",
    "    return 1 - (1 - (mu)**0.5)\n",
    "\n",
    "def func1(r, p, z):\n",
    "    '''Numerator for the transit integral'''\n",
    "    return I(r) * (1 - delta(p,r,abs(z))) * 2 * r\n",
    "\n",
    "def func2(r, p, z):\n",
    "    '''Denominator for the transit integral'''\n",
    "    return I(r) * 2 * r\n",
    "\n",
    "def ComputeLightCurve(time, p, t0, tau):\n",
    "    \"\"\" Convert from Time to z and compute predicted transit curve. Given the three\n",
    "        parameters p, t0, and tau as well as an array containing the time values,\n",
    "        returns the predicted (normalized) transit flux values as an array\"\"\"\n",
    "    zs = (time-t0)/tau\n",
    "    FluxRatio = []\n",
    "    for zval in zs:\n",
    "        FluxObscured, FO_error = quad(func1, 0.0, 1.0, epsrel=1e-06, args=(p,zval))\n",
    "        FluxUnobscured, FU_error = quad(func2, 0.0, 1.0, epsrel=1e-06, args=(p,zval))\n",
    "        FluxRatio.append(FluxObscured/FluxUnobscured)\n",
    "    return np.array(FluxRatio)"
   ]
  },
  {
   "cell_type": "markdown",
   "metadata": {},
   "source": [
    "Import and normalize data"
   ]
  },
  {
   "cell_type": "code",
   "execution_count": 3,
   "metadata": {},
   "outputs": [
    {
     "name": "stdout",
     "output_type": "stream",
     "text": [
      "Mean flux is 104170.515625\n",
      "N = 49\n"
     ]
    }
   ],
   "source": [
    "##### import data\n",
    "time, flux, flux_err = np.loadtxt('KOI97.01_1.out', unpack=True)\n",
    "\n",
    "# Extract section that corresponds to a single eclipse (124 < t < 125): UTC units: 2,454,833 days\n",
    "eclipse_interval = np.where((time < 125.0) & (time > 124.0))\n",
    "\n",
    "time = time[eclipse_interval] # time interval\n",
    "flux = flux[eclipse_interval] # flux interval\n",
    "flux_err = flux_err[eclipse_interval] # Uncertainty in flux\n",
    "\n",
    "# Normalize Flux\n",
    "    \n",
    "# Two sigma clipping\n",
    "def two_sigma_clip(data,n):\n",
    "    flux_prime, sigma_prime = np.median(data), np.std(data)\n",
    "    # used median to mitigate contributions from outliers\n",
    "    unobscured_flux = np.where((abs(flux - flux_prime) / sigma_prime) <= 2)\n",
    "    return flux[unobscured_flux] #unobstructed flux\n",
    "    \n",
    "    # loop to get better analysis\n",
    "    i = 0\n",
    "    while i < n:\n",
    "        f = sigma_clipping(flux[unobscured_flux])\n",
    "        i += 1\n",
    "    \n",
    "    return f\n",
    "\n",
    "# iterate loop 5x to normalize data\n",
    "unobsc_flux = two_sigma_clip(flux, 5)\n",
    "mean_flux = np.mean(unobsc_flux)\n",
    "print('Mean flux is', mean_flux)\n",
    "\n",
    "norm_flux, norm_err = flux / mean_flux, flux_err / mean_flux\n",
    "\n",
    "print('N =', len(norm_flux))"
   ]
  },
  {
   "cell_type": "markdown",
   "metadata": {},
   "source": [
    "Fit and Chi Square"
   ]
  },
  {
   "cell_type": "code",
   "execution_count": 5,
   "metadata": {},
   "outputs": [
    {
     "name": "stdout",
     "output_type": "stream",
     "text": [
      "chi square = 830.6171796711525\n"
     ]
    }
   ],
   "source": [
    "def chi_square(y, fit, sigma):\n",
    "    return np.sum((y - fit)**2 / sigma**2)\n",
    "\n",
    "# fit the light curve\n",
    "fit = ComputeLightCurve(time, p = 0.0775, t0 = 124.5, tau = 0.1)\n",
    "chi_2 = chi_square(norm_flux, fit, norm_err)\n",
    "print('chi square =', chi_2)"
   ]
  },
  {
   "cell_type": "markdown",
   "metadata": {},
   "source": [
    "Tying with ready-made functions in astropy and scipy"
   ]
  },
  {
   "cell_type": "code",
   "execution_count": 35,
   "metadata": {},
   "outputs": [
    {
     "name": "stdout",
     "output_type": "stream",
     "text": [
      "104179.3469\n",
      "chi2 = Power_divergenceResult(statistic=7.306342957790779e-05, pvalue=1.0)\n"
     ]
    }
   ],
   "source": [
    "from astropy.stats import sigma_clip\n",
    "from scipy.stats import chisquare\n",
    "\n",
    "unobsc_flux2 = sigma_clip(flux, sigma=2, maxiters=5)\n",
    "#print(unobsc_flux2)\n",
    "\n",
    "mean_flux2 = np.mean(unobsc_flux2)\n",
    "print('%.4f'%mean_flux2)\n",
    "\n",
    "norm_flux2, norm_err2 = flux / mean_flux2, flux_err / mean_flux2\n",
    "\n",
    "# fit the light curve\n",
    "chi2_2 = chisquare(norm_flux2, fit)\n",
    "print('chi2 =', chi2_2)"
   ]
  },
  {
   "cell_type": "markdown",
   "metadata": {},
   "source": [
    "## Problem 2: Plotting/Fit"
   ]
  },
  {
   "cell_type": "code",
   "execution_count": 8,
   "metadata": {},
   "outputs": [
    {
     "data": {
      "image/png": "[encoded data removed]",
      "text/plain": [
       "<Figure size 1008x504 with 1 Axes>"
      ]
     },
     "metadata": {
      "needs_background": "light"
     },
     "output_type": "display_data"
    }
   ],
   "source": [
    "# plot the data and the predicted transit curve\n",
    "\n",
    "# Set up figure with subplots\n",
    "fig1, ax1 = plt.subplots(figsize = (14, 7))\n",
    "\n",
    "# Graph 1: direct from data\n",
    "ax1.errorbar(x = time, y = norm_flux,\n",
    "            yerr = norm_err, fmt = '-', ecolor = 'k', capsize = 5, \n",
    "             label = 'Normalized Data with Uncertainty')\n",
    "\n",
    "# Graph 1: linear fit\n",
    "ax1.errorbar(x = time, y = fit,\n",
    "           fmt = '-', color = 'green', label = 'Linear Fit')\n",
    "\n",
    "ax1.set_xlabel('Coordinated Universal Time', fontsize = 14)\n",
    "ax1.set_ylabel('Flux Counts/second', fontsize = 14)\n",
    "ax1.set_title('Flux of Keppler Object of Interest 97 (KOI 97) vs Time for Section Corresponding to an Eclipse', \n",
    "              fontsize = 16)\n",
    "ax1.legend(loc = 4, fontsize = 12)\n",
    "\n",
    "plt.show()"
   ]
  },
  {
   "cell_type": "markdown",
   "metadata": {},
   "source": [
    "Fit is not great, but it also doesn't look that bad. I would use it."
   ]
  },
  {
   "cell_type": "markdown",
   "metadata": {},
   "source": [
    "Determining how likely is the chi square value"
   ]
  },
  {
   "cell_type": "code",
   "execution_count": 9,
   "metadata": {},
   "outputs": [
    {
     "name": "stdout",
     "output_type": "stream",
     "text": [
      "p-value of fit is 1.0\n"
     ]
    }
   ],
   "source": [
    "# Finding incomplete gamma function\n",
    "\n",
    "nu = len(norm_flux)-3\n",
    "p_val = scipy.special.gammainc (nu/2, chi_2/2)\n",
    "print('p-value of fit is',  p_val)"
   ]
  },
  {
   "cell_type": "markdown",
   "metadata": {},
   "source": [
    "P-value indicates it is not a good fit."
   ]
  },
  {
   "cell_type": "markdown",
   "metadata": {},
   "source": [
    "### Problem 3: varying tau "
   ]
  },
  {
   "cell_type": "code",
   "execution_count": 34,
   "metadata": {},
   "outputs": [
    {
     "name": "stdout",
     "output_type": "stream",
     "text": [
      "650.9605\n"
     ]
    }
   ],
   "source": [
    "chi2_list = []\n",
    "\n",
    "tau_list = np.linspace(0.08, 0.13, 100)\n",
    "\n",
    "for tau in tau_list:\n",
    "    fit = ComputeLightCurve(time, p = 0.0775, t0 = 124.5, tau = tau)    \n",
    "    chi2_list.append(chi_square(norm_flux, fit, norm_err))\n",
    "    \n",
    "print('%.4f'%min(chi2_list))"
   ]
  },
  {
   "cell_type": "markdown",
   "metadata": {},
   "source": [
    "Plot"
   ]
  },
  {
   "cell_type": "code",
   "execution_count": 17,
   "metadata": {},
   "outputs": [
    {
     "data": {
      "image/png": "[encoded data removed]",
      "text/plain": [
       "<Figure size 1008x504 with 1 Axes>"
      ]
     },
     "metadata": {
      "needs_background": "light"
     },
     "output_type": "display_data"
    }
   ],
   "source": [
    "fig2, ax2 = plt.subplots(figsize = (14, 7))\n",
    "\n",
    "ax2.errorbar(tau_list, chi2_list, fmt = '-', ecolor = 'k', capsize = 5)\n",
    "\n",
    "ax2.set_xlabel(r'$\\tau$', fontsize = 16)\n",
    "ax2.set_ylabel(r'$\\chi^2$', fontsize = 16)\n",
    "ax2.set_title(r'$\\chi^2$ vs $\\tau$', \n",
    "              fontsize = 20)\n",
    "\n",
    "plt.show()"
   ]
  },
  {
   "cell_type": "code",
   "execution_count": 30,
   "metadata": {},
   "outputs": [
    {
     "name": "stdout",
     "output_type": "stream",
     "text": [
      "32\n"
     ]
    }
   ],
   "source": [
    "ind = np.argmin(chi2_list)\n",
    "print(ind)"
   ]
  },
  {
   "cell_type": "code",
   "execution_count": 33,
   "metadata": {},
   "outputs": [
    {
     "name": "stdout",
     "output_type": "stream",
     "text": [
      "τ corresponding to minimum χ^2 is 0.0962\n",
      "p-value of fit is 1.0\n"
     ]
    }
   ],
   "source": [
    "print('\\u03C4 corresponding to minimum \\u03C7^2 is', '%.4f'%tau_list[32])\n",
    "\n",
    "p_val2 = scipy.special.gammainc (nu/2, min(chi2_list)/2)\n",
    "print('p-value of fit is',  p_val2)"
   ]
  },
  {
   "cell_type": "markdown",
   "metadata": {},
   "source": [
    "Determine 1 $\\sigma$ uncertainty"
   ]
  },
  {
   "cell_type": "code",
   "execution_count": null,
   "metadata": {},
   "outputs": [],
   "source": []
  }
 ],
 "metadata": {
  "kernelspec": {
   "display_name": "Python 3",
   "language": "python",
   "name": "python3"
  },
  "language_info": {
   "codemirror_mode": {
    "name": "ipython",
    "version": 3
   },
   "file_extension": ".py",
   "mimetype": "text/x-python",
   "name": "python",
   "nbconvert_exporter": "python",
   "pygments_lexer": "ipython3",
   "version": "3.7.3"
  }
 },
 "nbformat": 4,
 "nbformat_minor": 2
}
