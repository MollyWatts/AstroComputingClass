{
 "cells": [
  {
   "cell_type": "code",
   "execution_count": null,
   "metadata": {},
   "outputs": [],
   "source": [
    "def Simpson(f, a, b, n):\n",
    "    h = (b - a)/(n)\n",
    "    sum1 = 0\n",
    "    for i in range(1, n//2 + 1):\n",
    "        sum1 += f(a + (2*i-1)*h)\n",
    "        \n",
    "    sum2 = 0\n",
    "    for i in range(1, n//2):\n",
    "        sum2 += f(a + 2*i*h)\n",
    "        \n",
    "    integral = (b-a)/(3*n)*(f(a) + f(b) + 4*sum1 + 2*sum2)\n",
    "    return integral\n",
    "\n",
    "class func1_class:\n",
    "    def f(self,x):\n",
    "    return math.sin(x)\n",
    "\n",
    "for n in (10, 10**2, 10**3, 10**4, 10**5):\n",
    "    true = 1\n",
    "    approx = Simpson(f, 0, np.pi/2, n)\n",
    "    error = abs((true - approx))/true\n",
    "    print(f\"approximation={approx:.16f}, error={error:.3e}, n={n}\")"
   ]
  }
 ],
 "metadata": {
  "kernelspec": {
   "display_name": "Python 3",
   "language": "python",
   "name": "python3"
  },
  "language_info": {
   "codemirror_mode": {
    "name": "ipython",
    "version": 3
   },
   "file_extension": ".py",
   "mimetype": "text/x-python",
   "name": "python",
   "nbconvert_exporter": "python",
   "pygments_lexer": "ipython3",
   "version": "3.7.3"
  }
 },
 "nbformat": 4,
 "nbformat_minor": 2
}
