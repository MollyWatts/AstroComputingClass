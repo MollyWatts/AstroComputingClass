{
 "cells": [
  {
   "cell_type": "markdown",
   "metadata": {},
   "source": [
    "# Assignment 2"
   ]
  },
  {
   "cell_type": "markdown",
   "metadata": {},
   "source": [
    "### Problem 1: Simpson's Rule"
   ]
  },
  {
   "cell_type": "code",
   "execution_count": 2,
   "metadata": {},
   "outputs": [],
   "source": [
    "import numpy as np\n",
    "import math"
   ]
  },
  {
   "cell_type": "code",
   "execution_count": 3,
   "metadata": {
    "scrolled": true
   },
   "outputs": [
    {
     "name": "stdout",
     "output_type": "stream",
     "text": [
      "approximation=1.0000033922209004, error=3.392e-06, n=10\n",
      "approximation=1.0000000003382361, error=3.382e-10, n=100\n",
      "approximation=1.0000000000000340, error=3.397e-14, n=1000\n",
      "approximation=0.9999999999999992, error=7.772e-16, n=10000\n",
      "approximation=0.9999999999999998, error=2.220e-16, n=100000\n"
     ]
    }
   ],
   "source": [
    "def Simpson_int(f, a, b, n):\n",
    "    h = (b - a) / n\n",
    "    return h/3*(f(a) + f(b) + 4*sum(f(a + (2*i - 1)*h) for i in range(1, n//2 +1)) + 2*sum(f(a + 2*i*h)\n",
    "        for i in range(1, n//2))) \n",
    "    \n",
    "for n in (10, 10**2, 10**3, 10**4, 10**5):\n",
    "    f = lambda x: np.sin(x)\n",
    "    true = 1\n",
    "    approx = Simpson_int(f, 0, np.pi/2, n)\n",
    "    error = abs((true - approx))/true\n",
    "    print(f\"approximation={approx:.16f}, error={error:.3e}, n={n}\")\n",
    "\n",
    "#Note: truncation error (error of scheme) small at low n - round off error is larger"
   ]
  },
  {
   "cell_type": "markdown",
   "metadata": {},
   "source": [
    "### Problem 1: Another way"
   ]
  },
  {
   "cell_type": "code",
   "execution_count": 4,
   "metadata": {},
   "outputs": [
    {
     "name": "stdout",
     "output_type": "stream",
     "text": [
      "approximation=1.0000033922209004, error=3.392e-06, n=10\n",
      "approximation=1.0000000003382359, error=3.382e-10, n=100\n",
      "approximation=1.0000000000000338, error=3.375e-14, n=1000\n",
      "approximation=0.9999999999999992, error=7.772e-16, n=10000\n",
      "approximation=0.9999999999999999, error=1.110e-16, n=100000\n"
     ]
    }
   ],
   "source": [
    "def SimpsonInt(f, a, b, n):\n",
    "    h = (b - a)/(n)\n",
    "    sum1 = 0\n",
    "    for i in range(1, n//2 + 1):\n",
    "        sum1 += f(a + (2*i-1)*h)\n",
    "        \n",
    "    sum2 = 0\n",
    "    for i in range(1, n//2):\n",
    "        sum2 += f(a + 2*i*h)\n",
    "        \n",
    "    integral = (b-a)/(3*n)*(f(a) + f(b) + 4*sum1 + 2*sum2)\n",
    "    return integral\n",
    "\n",
    "def f(x):\n",
    "    return math.sin(x)\n",
    "\n",
    "for n in (10, 10**2, 10**3, 10**4, 10**5):\n",
    "    true = 1\n",
    "    approx = SimpsonInt(f, 0, math.pi/2, n)\n",
    "    error = abs((true - approx))/true\n",
    "    print(f\"approximation={approx:.16f}, error={error:.3e}, n={n}\")"
   ]
  },
  {
   "cell_type": "markdown",
   "metadata": {},
   "source": [
    "### Problem 2: Flux problem continued"
   ]
  },
  {
   "cell_type": "code",
   "execution_count": 5,
   "metadata": {},
   "outputs": [
    {
     "name": "stdout",
     "output_type": "stream",
     "text": [
      "Flux approximation=0.9721658728978351, error=3.871e-03, n=10\n",
      "Flux approximation=0.9684458598965651, error=2.980e-05, n=100\n",
      "Flux approximation=0.9684179166071860, error=9.414e-07, n=1000\n",
      "Flux approximation=0.9684170337395182, error=2.977e-08, n=10000\n",
      "Flux approximation=0.9684170058230726, error=9.413e-10, n=100000\n"
     ]
    }
   ],
   "source": [
    "# Variables/ Arguments meaning for problem:\n",
    "    # p = r_p/r_* : size ratio of planet to the star\n",
    "        # where r_p is the radius of the planet,; r_* is the stellar radius\n",
    "    # z = d/r_* : is the separation of the centers, normalized by the stellar \n",
    "        # where d is center-to-center distance between the star and the planet\n",
    "    # F(p,z) is observed flux relative to the unobscured flux\n",
    "\n",
    "import math\n",
    "\n",
    "# BEGIN - Transit\n",
    "def kappa0(p, z):\n",
    "    return math.acos((p**2 + z**2 - 1)/(2*p*z))\n",
    "\n",
    "def kappa1(p, z):\n",
    "    return math.acos((1 - p**2 + z**2)/(2*z))\n",
    "\n",
    "def lambd(p, z):\n",
    "    if 1 + p < z:\n",
    "        return 0\n",
    "    if z <= 1 - p:\n",
    "        return p**2\n",
    "    if z <= p - 1:\n",
    "        return 1\n",
    "    arg = (4*z**2 - (1 + z**2 - p**2)**2)/4\n",
    "    if arg >= 0:\n",
    "        return (kappa0(p, z)*p**2 + kappa1(p, z) - math.sqrt(arg))/math.pi\n",
    "    else:\n",
    "        return 0\n",
    "\n",
    "def FluxRatio(p, z):\n",
    "    \"\"\"\n",
    "    Compute the ratio of obscured/unobscured flux for a planet transit.\n",
    "    \n",
    "    Arguments:\n",
    "       p - ratio of planet radius to stellar radius\n",
    "       z - distance between star and planet divided by stellar radius\n",
    "    Returns: \n",
    "       FluxRatio - ratio of obscured to unobscured stellar flux\n",
    "    \"\"\"\n",
    "    return 1 - lambd(p, abs(z))\n",
    "# END - Transit\n",
    "\n",
    "# globally define variables (arguments)\n",
    "p = 0.2\n",
    "z = 0.9\n",
    "\n",
    "# I(r) is the intensity of the sun's surface\n",
    "def I(r):\n",
    "    return 1\n",
    "\n",
    "def delta(p,r,z):\n",
    "    if r >= z + p or r <= z - p:\n",
    "        return 0.0\n",
    "    elif r + z <= p:\n",
    "        return 1.0\n",
    "    else:\n",
    "        return (1/(math.pi))* math.acos((z**2 - p**2 + r**2)/(2*z*r))\n",
    "\n",
    "# numerator\n",
    "def func1(r):\n",
    "    return I(r)*(1 - delta(p, r, z))*2*r\n",
    "\n",
    "# denominator\n",
    "def func2(r):\n",
    "    return I(r)*2*r    \n",
    "\n",
    "for n in (10, 10**2, 10**3, 10**4, 10**5):\n",
    "    true = (1 - lambd(p, z))\n",
    "    flux_approx = (SimpsonInt(func1, 0.0, 1.0, n))/ ((SimpsonInt(func2, 0.0, 1.0, n))) # FLUX ratio\n",
    "    error = abs((true - flux_approx))/true\n",
    "    print(f\"Flux approximation={flux_approx:.16f}, error={error:.3e}, n={n}\")"
   ]
  },
  {
   "cell_type": "markdown",
   "metadata": {},
   "source": [
    "### Problem 3: Monte Carlo Integration"
   ]
  },
  {
   "cell_type": "code",
   "execution_count": 6,
   "metadata": {},
   "outputs": [
    {
     "name": "stdout",
     "output_type": "stream",
     "text": [
      "Flux approximation=1.0000000000000000, error=3.261e-02, n=10\n",
      "Flux approximation=0.9876543209876543, error=1.986e-02, n=100\n",
      "Flux approximation=0.9679897567221510, error=4.412e-04, n=1000\n",
      "Flux approximation=0.9682055195218110, error=2.184e-04, n=10000\n",
      "Flux approximation=0.9678024981481008, error=6.345e-04, n=100000\n"
     ]
    }
   ],
   "source": [
    "import random\n",
    "\n",
    "def Monte(n):\n",
    "    N1 = 0\n",
    "    N2 = 0\n",
    "    \n",
    "    for i in range(0,n):\n",
    "        x = random.uniform(-1,1)\n",
    "        y = random.uniform(-1,1)\n",
    "    \n",
    "        if (x**2 + y**2 <= 1):\n",
    "            N1 += 1\n",
    "        \n",
    "        if ((x - z)**2 + y**2) < p**2:\n",
    "            N2 += 1\n",
    "        \n",
    "    monte_flux =  (N1 - N2)/N1 \n",
    "    return monte_flux\n",
    "\n",
    "    \n",
    "for n in (10, 10**2, 10**3, 10**4, 10**5):\n",
    "    true = (1 - lambd(p, z))\n",
    "    flux_approx = (Monte(n)) # FLUX ratio\n",
    "    error = abs((true - flux_approx))/true\n",
    "    print(f\"Flux approximation={flux_approx:.16f}, error={error:.3e}, n={n}\")"
   ]
  }
 ],
 "metadata": {
  "kernelspec": {
   "display_name": "Python 3",
   "language": "python",
   "name": "python3"
  },
  "language_info": {
   "codemirror_mode": {
    "name": "ipython",
    "version": 3
   },
   "file_extension": ".py",
   "mimetype": "text/x-python",
   "name": "python",
   "nbconvert_exporter": "python",
   "pygments_lexer": "ipython3",
   "version": "3.7.3"
  }
 },
 "nbformat": 4,
 "nbformat_minor": 2
}
