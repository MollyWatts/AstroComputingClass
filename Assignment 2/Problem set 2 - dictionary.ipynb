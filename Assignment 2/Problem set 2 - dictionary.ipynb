{
 "cells": [
  {
   "cell_type": "code",
   "execution_count": 3,
   "metadata": {},
   "outputs": [
    {
     "name": "stdout",
     "output_type": "stream",
     "text": [
      "approximation=1.0000033922209004, error=3.392e-06, n=10\n",
      "approximation=1.0000000003382359, error=3.382e-10, n=100\n",
      "approximation=1.0000000000000338, error=3.375e-14, n=1000\n",
      "approximation=0.9999999999999992, error=7.772e-16, n=10000\n",
      "approximation=0.9999999999999999, error=1.110e-16, n=100000\n"
     ]
    }
   ],
   "source": [
    "import math\n",
    "\n",
    "def SimpsonInt(f, a, b, n):\n",
    "    h = (b - a)/(n)\n",
    "    sum1 = 0\n",
    "    for i in range(1, n//2 + 1):\n",
    "        sum1 += f(a + (2*i-1)*h)\n",
    "        \n",
    "    sum2 = 0\n",
    "    for i in range(1, n//2):\n",
    "        sum2 += f(a + 2*i*h)\n",
    "        \n",
    "    integral = (b-a)/(3*n)*(f(a) + f(b) + 4*sum1 + 2*sum2)\n",
    "    return integral\n",
    "\n",
    "def f(x):\n",
    "    return math.sin(x)\n",
    "\n",
    "for n in (10, 10**2, 10**3, 10**4, 10**5):\n",
    "    true = 1\n",
    "    approx = SimpsonInt(f, 0, math.pi/2, n)\n",
    "    error = abs((true - approx))/true\n",
    "    print(f\"approximation={approx:.16f}, error={error:.3e}, n={n}\")"
   ]
  },
  {
   "cell_type": "code",
   "execution_count": 8,
   "metadata": {},
   "outputs": [
    {
     "name": "stdout",
     "output_type": "stream",
     "text": [
      "Flux approximation=0.9721658728978351, error=3.871e-03, n=10\n",
      "Flux approximation=0.9684458598965651, error=2.980e-05, n=100\n",
      "Flux approximation=0.9684179166071860, error=9.414e-07, n=1000\n",
      "Flux approximation=0.9684170337395182, error=2.977e-08, n=10000\n",
      "Flux approximation=0.9684170058230726, error=9.413e-10, n=100000\n"
     ]
    }
   ],
   "source": [
    "def I(r):\n",
    "    return 1\n",
    "\n",
    "param = {'z': 0.9, 'p': 0.2}\n",
    "\n",
    "def kappa0(param):\n",
    "    return math.acos((param['p']**2 + param['z']**2 - 1)/(2*param['p']*param['z']))\n",
    "\n",
    "def kappa1(param):\n",
    "    return math.acos((1 - param['p']**2 + param['z']**2)/(2*param['z']))\n",
    "\n",
    "def lambd(param):\n",
    "    if 1 + param['p'] < param['z']:\n",
    "        return 0\n",
    "    if param['z'] <= 1 - param['p']:\n",
    "        return param['p']**2\n",
    "    if param['z'] <= param['p'] - 1:\n",
    "        return 1\n",
    "    arg = (4*param['z']**2 - (1 + param['z']**2 - param['p']**2)**2)/4\n",
    "    if arg >= 0:\n",
    "        return (kappa0(param)*param['p']**2 + kappa1(param) - math.sqrt(arg))/math.pi\n",
    "    else:\n",
    "        return 0\n",
    "\n",
    "def delta(r, param):\n",
    "    if r >= param['z'] + param['p'] or r <= param['z'] - param['p']:\n",
    "        return 0.0\n",
    "    elif r + param['z'] <= param['p']:\n",
    "        return 1.0\n",
    "    else:\n",
    "        return (1/(math.pi))* math.acos((param['z']**2 - param['p']**2 + r**2)/(2*param['z']*r))\n",
    "\n",
    "# numerator\n",
    "\n",
    "def func1(r):\n",
    "    return I(r)*(1 - delta(r, param))*2*r\n",
    "\n",
    "# denominator\n",
    "def func2(r):\n",
    "    return I(r)*2* r    \n",
    "\n",
    "\n",
    "\n",
    "# where I(r) is the intensity of the sun's surface\n",
    "\n",
    "for n in (10, 10**2, 10**3, 10**4, 10**5):\n",
    "    true = (1 - lambd(param))\n",
    "    flux_approx = (SimpsonInt(func1, 0.0, 1.0, n))/ ((SimpsonInt(func2, 0.0, 1.0, n))) # FLUX ratio\n",
    "    error = abs((true - flux_approx))/true\n",
    "    print(f\"Flux approximation={flux_approx:.16f}, error={error:.3e}, n={n}\")"
   ]
  },
  {
   "cell_type": "code",
   "execution_count": null,
   "metadata": {},
   "outputs": [],
   "source": []
  }
 ],
 "metadata": {
  "kernelspec": {
   "display_name": "Python 3",
   "language": "python",
   "name": "python3"
  },
  "language_info": {
   "codemirror_mode": {
    "name": "ipython",
    "version": 3
   },
   "file_extension": ".py",
   "mimetype": "text/x-python",
   "name": "python",
   "nbconvert_exporter": "python",
   "pygments_lexer": "ipython3",
   "version": "3.7.3"
  }
 },
 "nbformat": 4,
 "nbformat_minor": 2
}
