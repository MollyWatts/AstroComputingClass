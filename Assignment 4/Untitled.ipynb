{
 "cells": [
  {
   "cell_type": "code",
   "execution_count": null,
   "metadata": {},
   "outputs": [],
   "source": [
    "# CENTRAL PRESSURE: Pc = 10^11\n",
    "\n",
    "P1 = (10)**11\n",
    "\n",
    "rho = RHO(8300.0, 0.00349, 0.528)\n",
    "\n",
    "P = P1\n",
    "m = m_0\n",
    "r = dr\n",
    "\n",
    "P1_points, m1_points, r1_points = [], [], []\n",
    "\n",
    "while P >= 0:\n",
    "    (P, m, r) = RK4_step(P, m, r, dr)\n",
    "    r = r + dr\n",
    "    P1_points.append(P)\n",
    "    m1_points.append(m)\n",
    "    r1_points.append(r)\n",
    "    \n",
    "mass1 = np.array(m1_points)\n",
    "mpoints_earth1 = mass1/M_earth\n",
    "\n",
    "m1 = max(mpoints_earth1)\n",
    "print(m1)\n",
    "\n",
    "class MASS:\n",
    "    \"\"\"\n",
    "    Equation of State for DENSITY related to PRESSURE \n",
    "    \n",
    "    Methods:\n",
    "        constructor (rho0): set initial density\n",
    "        value(P): pressure - compute density as a function of P\n",
    "        \n",
    "    Parameters:\n",
    "        rho0: initial density\n",
    "        c: constant\n",
    "        n: constant\n",
    "    \"\"\"   \n",
    "    def __init__(self, P):\n",
    "        self.P = P\n",
    "        \n",
    "    \n",
    "    while P >= 0:\n",
    "        (P, m, r) = RK4_step(P, m, r, dr)\n",
    "        r = r + dr\n",
    "        Ppoints.append(P)\n",
    "        mpoints.append(m)\n",
    "        rpoints.append(r)\n",
    "        \n",
    "    def __maxmass__(self):\n",
    "        return max(mpoints)"
   ]
  }
 ],
 "metadata": {
  "kernelspec": {
   "display_name": "Python 3",
   "language": "python",
   "name": "python3"
  },
  "language_info": {
   "codemirror_mode": {
    "name": "ipython",
    "version": 3
   },
   "file_extension": ".py",
   "mimetype": "text/x-python",
   "name": "python",
   "nbconvert_exporter": "python",
   "pygments_lexer": "ipython3",
   "version": "3.7.3"
  }
 },
 "nbformat": 4,
 "nbformat_minor": 2
}
